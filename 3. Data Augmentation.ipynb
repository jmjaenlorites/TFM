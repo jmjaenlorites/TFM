{
 "cells": [
  {
   "cell_type": "markdown",
   "metadata": {},
   "source": [
    "<font color=\"#CA3532\" style=\"font-size:40px\"><h1 align=\"left\" >Data Augmentation</h1></font>\n",
    "<font color=\"#CA3532\" style=\"font-size:15px\"><h1 align=\"left\" >Técnicas y funciones</h1></font>\n",
    "<font color=\"#6E6E6E\"><h3 align=\"left\">Jaen-Lorites, Jose Manuel</h3></font> \n",
    "\n",
    "En este documento se pretende explorar las técnicas y definir las funciones de Data Augmentation, de forma que podamos aumentar el tamaño de nuestro dataset.\n",
    "\n",
    "*TODO:*\n",
    "- Buscar en bibliografía cuanto es conveniente augmentar el dataset (n·cunanto)"
   ]
  },
  {
   "cell_type": "code",
   "execution_count": 1,
   "metadata": {},
   "outputs": [
    {
     "name": "stdout",
     "output_type": "stream",
     "text": [
      "Succesfull loaded: path_list, labels, split, image_type, file_npy\n",
      "Succesfull loaded: df_metadata_images\n"
     ]
    }
   ],
   "source": [
    "import sys; sys.path.insert(0, '../Scripts')\n",
    "# import load_images\n",
    "from load_images import load_images, get_df_paths\n",
    "import pandas as pd\n",
    "import numpy as np\n",
    "from matplotlib import pyplot as plt\n",
    "plt.rcParams['image.cmap'] = 'gray'\n",
    "\n",
    "import tensorflow as tf\n",
    "from tensorflow import keras\n",
    "from tensorflow.keras import backend as K\n",
    "\n",
    "import copy"
   ]
  },
  {
   "cell_type": "markdown",
   "metadata": {},
   "source": [
    "A continuación tenemos la función empleada por Manu:"
   ]
  },
  {
   "cell_type": "code",
   "execution_count": null,
   "metadata": {},
   "outputs": [],
   "source": [
    "def augment(images_train, labels_hot_encode_train, n):\n",
    "    data_gen_args = dict(\n",
    "                         rotation_range=30, zoom_range=0.05,\n",
    "                         shear_range=20)\n",
    "                         # width_shift_range=0.1,\n",
    "                         # height_shift_range=0.1,\n",
    "                         # zoom_range=0.2)\n",
    "    image_datagen = tf.keras.preprocessing.image.ImageDataGenerator(**data_gen_args)\n",
    "    mask_datagen = tf.keras.preprocessing.image.ImageDataGenerator(**data_gen_args)\n",
    "    seed = 1\n",
    "    image_datagen.fit(images_train, augment=True, seed=seed)\n",
    "    mask_datagen.fit(labels_hot_encode_train, augment=True, seed=seed)\n",
    "    matrix = np.empty(images_train.shape)\n",
    "    matrix_mask = np.empty(labels_hot_encode_train.shape)\n",
    "    iter = 1\n",
    "    im_iter = image_datagen.flow(images_train, batch_size=1,seed=seed)\n",
    "    mask_iter = image_datagen.flow(labels_hot_encode_train, batch_size=1,seed=seed)\n",
    "    images_train_up = copy.deepcopy(images_train)\n",
    "    labels_hot_encode_train_up = copy.deepcopy(labels_hot_encode_train)\n",
    "    while iter<=n:\n",
    "        for i in range(images_train.shape[0]):\n",
    "            matrix[i,:,:,:]= im_iter.next()\n",
    "            matrix_mask[i, :, :, :] = mask_iter.next()\n",
    "            print(i)\n",
    "        matrix_mask[matrix_mask>=0.5] = 1\n",
    "        matrix_mask[matrix_mask<0.5] = 0\n",
    "        images_train_up = np.concatenate((images_train_up,matrix))\n",
    "        labels_hot_encode_train_up = np.concatenate((labels_hot_encode_train_up,matrix_mask))\n",
    "        iter = iter+1\n",
    "    return  images_train_up, labels_hot_encode_train_up"
   ]
  },
  {
   "cell_type": "markdown",
   "metadata": {},
   "source": [
    "Utiliza ImageDateGenerator (<a href='https://www.tensorflow.org/api_docs/python/tf/keras/preprocessing/image/ImageDataGenerator'>Revisar documentación</a>)\n",
    "\n",
    "- `flow()` genera un iterador en el cual se generan imagenes\n",
    "- `copy.deepcopy()` Revisar <a href='https://docs.python.org/3/library/copy.html#copy.deepcopy'>documentación</a>. Creo que la clave es que crea una copia de la lista, donde sus elementos no son referencias a los elementos de la original, sino que también se realizan copias de estos. Tal vez trabajando directamente con *np.array* no sea necesario."
   ]
  },
  {
   "cell_type": "markdown",
   "metadata": {},
   "source": [
    "### Realizamos algunas pruebas"
   ]
  },
  {
   "cell_type": "code",
   "execution_count": 26,
   "metadata": {},
   "outputs": [],
   "source": [
    "# Cargamos Data\n",
    "n_train = 30\n",
    "n_valid = 5\n",
    "X_train = load_images(get_df_paths(n=n_train))\n",
    "X_valid = load_images(get_df_paths(n=n_valid))"
   ]
  },
  {
   "cell_type": "code",
   "execution_count": 27,
   "metadata": {},
   "outputs": [],
   "source": [
    "data_gen_args = dict(\n",
    "                     rotation_range=10, zoom_range=0.05,\n",
    "                     shear_range=10)\n",
    "                     # width_shift_range=0.1,\n",
    "                     # height_shift_range=0.1,\n",
    "                     # zoom_range=0.2)\n",
    "image_datagen = tf.keras.preprocessing.image.ImageDataGenerator(**data_gen_args)\n",
    "# image_datagen.fit(X_valid[:,:,:,np.newaxis], augment=True, seed=1) #Creo que en nuestro caso no es necesrio\n",
    "im_iter = image_datagen.flow(X_valid[:,:,:,np.newaxis], batch_size=1,seed=1)"
   ]
  },
  {
   "cell_type": "code",
   "execution_count": 28,
   "metadata": {},
   "outputs": [
    {
     "data": {
      "text/plain": [
       "(1, 180, 180, 1)"
      ]
     },
     "execution_count": 28,
     "metadata": {},
     "output_type": "execute_result"
    }
   ],
   "source": [
    "im_iter.next().shape"
   ]
  },
  {
   "cell_type": "code",
   "execution_count": 2,
   "metadata": {},
   "outputs": [],
   "source": [
    "def generador():\n",
    "#         i=0\n",
    "#         while True:\n",
    "        yield im_iter.next()[0,:,:,:], im_iter.next()[0,:,:,:]\n",
    "    \n",
    "ds = tf.data.Dataset.from_generator(\n",
    "    generador, \n",
    "    output_types=(tf.float64,tf.float64), \n",
    "    output_shapes=([180,180,1],[180,180,1])\n",
    ")\n",
    "\n",
    "# ds.as_numpy_iterator().next()"
   ]
  },
  {
   "cell_type": "code",
   "execution_count": 96,
   "metadata": {},
   "outputs": [
    {
     "data": {
      "text/plain": [
       "551"
      ]
     },
     "execution_count": 96,
     "metadata": {},
     "output_type": "execute_result"
    }
   ],
   "source": [
    "dataset = tf.data.Dataset.from_tensor_slices(X_valid[:,:,:,np.newaxis])\n",
    "len(list(dataset.concatenate(ds.take(2)).as_numpy_iterator()))\n",
    "# len(list(ds.take(2).as_numpy_iterator()))\n",
    "# dataset.element_spec"
   ]
  },
  {
   "cell_type": "markdown",
   "metadata": {},
   "source": [
    "### Discusión y resumen de lo aprendido:\n",
    "\n",
    "Tras realizar diferentes pruebas con las funciones de `tf`, y apoyandome tanto en el código de Manu como en la documentación de `tf` (<a href=https://www.tensorflow.org/guide/data>Canalizaciones entrada de datos</a>, <a href=https://www.tensorflow.org/api_docs/python/tf/data/Dataset>tf.data.Dataset</a>), encuentro que:    \n",
    "- Keras acepta como input objetos de tipo Dataset.    \n",
    "- Se puede generar un objeto Dataset a partir de un iterador.    \n",
    "- Se puede generar un objeto Dataset a partir de un np.array.    \n",
    "- Se pueden concatenar objetos Dataset, formando un nuevo objeto Dataset que incluya a ambos.  \n",
    "\n",
    "Es por ello que veo útil la creación de una función que me genere un objeto del tipo Dataset que incluya tanto las imágenes reales, como las de DataAugmentation:\n",
    "\n",
    "**TODO:** El posterior modelo necesita que el elemento \"y\" lo proporcione también el dataset. Revisar eso y modificar la función como sea necesario. es decir, el objeto Dataset deberá generar, para el autoencoder, (image, image)."
   ]
  },
  {
   "cell_type": "code",
   "execution_count": 41,
   "metadata": {},
   "outputs": [],
   "source": [
    "def gen_data(n_train, n_gen, data_gen_args, n_val):\n",
    "    \n",
    "    ims = load_images(get_df_paths(n=10, random=False)) # Cargamos las imagenes reales\n",
    "    '''Revisar este punto. Tarda mucho en cargar dataset. Valorar crear pickle.'''\n",
    "    print(\"ims cargadas\")\n",
    "    \n",
    "    n_ims = ims.shape[0]\n",
    "    if n_train<=1 & isinstance(n_train, float): #asumimos n_float como fracción\n",
    "        n_train = int(np.round(n_ims*n_train))\n",
    "    \n",
    "    ims_train = ims[:n_train, :, :]\n",
    "    ims_val = ims[n_train:, :, :]\n",
    "    \n",
    "    # Generamos el DS de train. newaxis por posterior requerimiento de DataAugmentation\n",
    "    ds_train = tf.data.Dataset.from_tensor_slices((ims_train[:,np.newaxis,:,:,np.newaxis],ims_train[:,np.newaxis,:,:,np.newaxis]))\n",
    "    ds_val = tf.data.Dataset.from_tensor_slices((ims_val[:,np.newaxis,:,:,np.newaxis], ims_val[:,np.newaxis,:,:,np.newaxis]))\n",
    "    print(\"ds_train y ds_val generados\")\n",
    "    \n",
    "    # Generamos DS de DataAugmentation\n",
    "    image_datagen = tf.keras.preprocessing.image.ImageDataGenerator(**data_gen_args)\n",
    "    im_iter = image_datagen.flow(ims_train[:,:,:,np.newaxis], batch_size=1, seed=1) # Iterador/Generador\n",
    "    # TODO: Revisar batch_size y ims/ims_train\n",
    "    def generador():\n",
    "        aux_iter = im_iter.next()\n",
    "        yield aux_iter, aux_iter\n",
    "        \n",
    "    ds_gen = tf.data.Dataset.from_generator(generador, output_types=(tf.float64, tf.float64), \n",
    "                                             output_shapes=([1,180,180,1], [1,180,180,1]))\n",
    "    \n",
    "    # SOME ARGUMENTS ARE DEPRECATED: (output_shapes, output_types). They will be removed in a future version. \n",
    "                                        #Instructions for updating: Use output_signature instead (no esta en esta version)\n",
    "#     ds_gen = tf.data.Dataset.from_generator(lambda: im_iter, \n",
    "#                                         output_signature=tf.TensorSpec(shape=(1,180,180,1), dtype=tf.float64))\n",
    "    print(\"ds_gen generado\")\n",
    "    # Concatenamos ds_train y ds_gen, indicando cuantas imágenes se generan\n",
    "    ds = ds_train.concatenate(ds_gen.take(n_gen))\n",
    "    print(\"ds concatenado\")\n",
    "#     ds = ds.shuffle(n_train+n_gen, reshuffle_each_iteration=True) \n",
    "    '''Revisar 1er argumento si problemas con la memoria'''\n",
    "    return(ds, ds_val)"
   ]
  },
  {
   "cell_type": "code",
   "execution_count": 42,
   "metadata": {},
   "outputs": [
    {
     "name": "stdout",
     "output_type": "stream",
     "text": [
      "ims cargadas\n",
      "ds_train y ds_val generados\n",
      "ds_gen generado\n",
      "ds concatenado\n"
     ]
    }
   ],
   "source": [
    "data_gen_args = dict(\n",
    "                     rotation_range=10, zoom_range=0.05,\n",
    "                     shear_range=10)\n",
    "                     # width_shift_range=0.1,\n",
    "                     # height_shift_range=0.1,\n",
    "                     # zoom_range=0.2)\n",
    "            \n",
    "ds,ds_val = gen_data(0.9, 20, data_gen_args, 10)\n",
    "a=ds_val.as_numpy_iterator().next()"
   ]
  },
  {
   "cell_type": "code",
   "execution_count": 20,
   "metadata": {},
   "outputs": [
    {
     "data": {
      "text/plain": [
       "2"
      ]
     },
     "execution_count": 20,
     "metadata": {},
     "output_type": "execute_result"
    }
   ],
   "source": [
    "len(a)"
   ]
  },
  {
   "cell_type": "code",
   "execution_count": 21,
   "metadata": {},
   "outputs": [
    {
     "data": {
      "text/plain": [
       "<matplotlib.image.AxesImage at 0x204f7ab1c08>"
      ]
     },
     "execution_count": 21,
     "metadata": {},
     "output_type": "execute_result"
    },
    {
     "data": {
      "image/png": "[encoded data removed]",
      "text/plain": [
       "<Figure size 432x288 with 1 Axes>"
      ]
     },
     "metadata": {
      "needs_background": "light"
     },
     "output_type": "display_data"
    }
   ],
   "source": [
    "plt.imshow(a[0][:,:,0])"
   ]
  },
  {
   "cell_type": "code",
   "execution_count": 22,
   "metadata": {},
   "outputs": [
    {
     "data": {
      "text/plain": [
       "(180, 180, 1)"
      ]
     },
     "execution_count": 22,
     "metadata": {},
     "output_type": "execute_result"
    }
   ],
   "source": [
    "a[1].shape"
   ]
  },
  {
   "cell_type": "code",
   "execution_count": 34,
   "metadata": {},
   "outputs": [
    {
     "data": {
      "text/plain": [
       "(1, 180, 180, 1)"
      ]
     },
     "execution_count": 34,
     "metadata": {},
     "output_type": "execute_result"
    }
   ],
   "source": [
    "ds.as_numpy_iterator().next()[0].shape"
   ]
  },
  {
   "cell_type": "code",
   "execution_count": 43,
   "metadata": {},
   "outputs": [
    {
     "data": {
      "text/plain": [
       "<ConcatenateDataset shapes: ((1, 180, 180, 1), (1, 180, 180, 1)), types: (tf.float64, tf.float64)>"
      ]
     },
     "execution_count": 43,
     "metadata": {},
     "output_type": "execute_result"
    }
   ],
   "source": [
    "ds"
   ]
  },
  {
   "cell_type": "code",
   "execution_count": null,
   "metadata": {},
   "outputs": [],
   "source": []
  }
 ],
 "metadata": {
  "kernelspec": {
   "display_name": "Python 3 (ipykernel)",
   "language": "python",
   "name": "python3"
  },
  "language_info": {
   "codemirror_mode": {
    "name": "ipython",
    "version": 3
   },
   "file_extension": ".py",
   "mimetype": "text/x-python",
   "name": "python",
   "nbconvert_exporter": "python",
   "pygments_lexer": "ipython3",
   "version": "3.8.10"
  }
 },
 "nbformat": 4,
 "nbformat_minor": 4
}
