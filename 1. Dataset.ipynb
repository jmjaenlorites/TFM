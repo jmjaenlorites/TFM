{
 "cells": [
  {
   "cell_type": "markdown",
   "metadata": {},
   "source": [
    "<font color=\"#CA3532\" style=\"font-size:40px\"><h1 align=\"left\" >Análisis y visualización del dataset</h1></font>\n",
    "<font color=\"#6E6E6E\"><h3 align=\"left\">Jaen-Lorites, Jose Manuel</h3></font> \n",
    "\n",
    "En este documento se pretende tomar un primer contacto con el dataset, entender su estructura, y realizar algunas comprobaciones básicas."
   ]
  },
  {
   "cell_type": "markdown",
   "metadata": {},
   "source": [
    "## Índice:\n",
    "1. [Importación de librerias básicas](#librerias)\n",
    "2. [Manejo del dataset y las imágenes](#dataset-imagenes)  \n",
    "    2.1. [Estructura de data](#data-structure)  \n",
    "    2.2. [Visualización de data](#data-visualization)"
   ]
  },
  {
   "cell_type": "markdown",
   "metadata": {},
   "source": [
    "## 1. Importación de librerias básicas <a class=\"anchor\" id=\"librerias\"></a>"
   ]
  },
  {
   "cell_type": "code",
   "execution_count": 4,
   "metadata": {},
   "outputs": [],
   "source": [
    "import numpy as np\n",
    "import pandas as pd\n",
    "import matplotlib.pyplot as plt\n",
    "import random as rd\n",
    "\n",
    "plt.rcParams['image.cmap'] = 'gray' # Set default colormap as gray  \n",
    "\n",
    "import tensorflow as tf\n",
    "from tensorflow.keras import backend as K\n",
    "\n",
    "import os\n",
    "import time\n",
    "\n",
    "\n",
    "if not (\"path_list\" in globals()): # Comprobamos que path_list está cargado, y lo cargamos si no\n",
    "    path_list = pd.read_pickle(\"../data/path_list.pkl\")\n",
    "    labels = path_list.label.unique()\n",
    "    split = path_list.split.unique()\n",
    "    image_type = path_list.image_type.unique()\n",
    "    file_npy = path_list.file_npy.unique()\n",
    "if not (\"df_metadata_images\" in globals()): # Comprobamos que path_list está cargado, y lo cargamos si no\n",
    "    df_metadata_images = pd.read_pickle(\"../data/df_metadata_images.pkl\")"
   ]
  },
  {
   "cell_type": "markdown",
   "metadata": {},
   "source": [
    "## 2. Manejo del dataset y las imágenes <a class=\"anchor\" id=\"dataset-imagenes\"></a>\n",
    "\n",
    "*TODO:*\n",
    "- Create a function to load data\n",
    "- Put as argument the number of images to load (to get small subsets to perform the net tests)\n",
    "- Maybe will not be possible to load all data at once. Search how to proceed\n",
    "- Create a DataFrame with the image path and the image label\n",
    "- Maybe another DataFrame with the metadata (i.e. images per class)"
   ]
  },
  {
   "cell_type": "markdown",
   "metadata": {},
   "source": [
    "Creamos una función que nos lea todos los directorios, y nos cree un dataset con los path de todos los archivos. Este dataset lo vamos a guardar en formato pickle y lo vamos a almacenar. De esta forma, podremos cargar las diferentes imágenes en función de la etiqueta o búsqueda que querramos, sin tener que estar modificando bucles y funciones. Se guarda en picke para no tener que crear el dataset cada vez, y que sea rápido de cargar. \n",
    "\n",
    "No es necesario volver a ejecutar.\n",
    "\n",
    "**ID unico por paciente**"
   ]
  },
  {
   "cell_type": "code",
   "execution_count": 4,
   "metadata": {},
   "outputs": [],
   "source": [
    "def create_df_paths_images(dataset_path = \"D:/Dicom_organized\"):\n",
    "    df = pd.DataFrame() #columns = [\"label\", \"split\", \"image_type\", \"file_npy\", \"file_path\"]\n",
    "    dict_data={}\n",
    "    sep = \"/\"\n",
    "    subcarpetas1 = [\"training\", \"test\", \"validation\"]\n",
    "    subcarpetas3 = [\"raw\",\"resampled\"] # Omitimos seg\n",
    "    carpetas = os.listdir(dataset_path)\n",
    "    for carpeta in carpetas:\n",
    "        dict_data[\"label\"] = carpeta\n",
    "        for subcarpeta1 in subcarpetas1:\n",
    "            dict_data[\"split\"] = subcarpeta1\n",
    "            path_aux = sep.join((dataset_path,carpeta,subcarpeta1))\n",
    "            subcarpetas2 = os.listdir(path_aux)\n",
    "            for subcarpeta2 in subcarpetas2:\n",
    "                dict_data[\"id\"] = subcarpeta2\n",
    "                for subcarpeta3 in subcarpetas3:\n",
    "                    dict_data[\"image_type\"] = subcarpeta3\n",
    "                    files_npy = os.listdir(sep.join((path_aux,subcarpeta2, subcarpeta3)))\n",
    "                    for file_npy in files_npy:\n",
    "                        dict_data[\"file_npy\"] = file_npy.split(\".\")[0]\n",
    "                        dict_data[\"file_path\"] = sep.join((path_aux,subcarpeta2, subcarpeta3, file_npy))\n",
    "                        df = df.append(dict_data, ignore_index=True)\n",
    "    return(df)\n",
    "                              \n",
    "path_list = create_df_paths_images()\n",
    "path_list.to_pickle(\"../data/path_list.pkl\")"
   ]
  },
  {
   "cell_type": "code",
   "execution_count": 5,
   "metadata": {},
   "outputs": [
    {
     "data": {
      "text/html": [
       "<div>\n",
       "<style scoped>\n",
       "    .dataframe tbody tr th:only-of-type {\n",
       "        vertical-align: middle;\n",
       "    }\n",
       "\n",
       "    .dataframe tbody tr th {\n",
       "        vertical-align: top;\n",
       "    }\n",
       "\n",
       "    .dataframe thead th {\n",
       "        text-align: right;\n",
       "    }\n",
       "</style>\n",
       "<table border=\"1\" class=\"dataframe\">\n",
       "  <thead>\n",
       "    <tr style=\"text-align: right;\">\n",
       "      <th></th>\n",
       "      <th>file_npy</th>\n",
       "      <th>file_path</th>\n",
       "      <th>id</th>\n",
       "      <th>image_type</th>\n",
       "      <th>label</th>\n",
       "      <th>split</th>\n",
       "    </tr>\n",
       "  </thead>\n",
       "  <tbody>\n",
       "    <tr>\n",
       "      <th>0</th>\n",
       "      <td>cine</td>\n",
       "      <td>D:/Dicom_organized/both_only/training/10890674...</td>\n",
       "      <td>10890674_27052016</td>\n",
       "      <td>raw</td>\n",
       "      <td>both_only</td>\n",
       "      <td>training</td>\n",
       "    </tr>\n",
       "    <tr>\n",
       "      <th>1</th>\n",
       "      <td>diastole_data</td>\n",
       "      <td>D:/Dicom_organized/both_only/training/10890674...</td>\n",
       "      <td>10890674_27052016</td>\n",
       "      <td>raw</td>\n",
       "      <td>both_only</td>\n",
       "      <td>training</td>\n",
       "    </tr>\n",
       "    <tr>\n",
       "      <th>2</th>\n",
       "      <td>segmented</td>\n",
       "      <td>D:/Dicom_organized/both_only/training/10890674...</td>\n",
       "      <td>10890674_27052016</td>\n",
       "      <td>raw</td>\n",
       "      <td>both_only</td>\n",
       "      <td>training</td>\n",
       "    </tr>\n",
       "    <tr>\n",
       "      <th>3</th>\n",
       "      <td>sistole_data</td>\n",
       "      <td>D:/Dicom_organized/both_only/training/10890674...</td>\n",
       "      <td>10890674_27052016</td>\n",
       "      <td>raw</td>\n",
       "      <td>both_only</td>\n",
       "      <td>training</td>\n",
       "    </tr>\n",
       "    <tr>\n",
       "      <th>4</th>\n",
       "      <td>time_series_data</td>\n",
       "      <td>D:/Dicom_organized/both_only/training/10890674...</td>\n",
       "      <td>10890674_27052016</td>\n",
       "      <td>raw</td>\n",
       "      <td>both_only</td>\n",
       "      <td>training</td>\n",
       "    </tr>\n",
       "    <tr>\n",
       "      <th>...</th>\n",
       "      <td>...</td>\n",
       "      <td>...</td>\n",
       "      <td>...</td>\n",
       "      <td>...</td>\n",
       "      <td>...</td>\n",
       "      <td>...</td>\n",
       "    </tr>\n",
       "    <tr>\n",
       "      <th>4791</th>\n",
       "      <td>diastole_data</td>\n",
       "      <td>D:/Dicom_organized/RV_plus/validation/2173519_...</td>\n",
       "      <td>2173519_08082018</td>\n",
       "      <td>resampled</td>\n",
       "      <td>RV_plus</td>\n",
       "      <td>validation</td>\n",
       "    </tr>\n",
       "    <tr>\n",
       "      <th>4792</th>\n",
       "      <td>segmented_resampled</td>\n",
       "      <td>D:/Dicom_organized/RV_plus/validation/2173519_...</td>\n",
       "      <td>2173519_08082018</td>\n",
       "      <td>resampled</td>\n",
       "      <td>RV_plus</td>\n",
       "      <td>validation</td>\n",
       "    </tr>\n",
       "    <tr>\n",
       "      <th>4793</th>\n",
       "      <td>sistole_data</td>\n",
       "      <td>D:/Dicom_organized/RV_plus/validation/2173519_...</td>\n",
       "      <td>2173519_08082018</td>\n",
       "      <td>resampled</td>\n",
       "      <td>RV_plus</td>\n",
       "      <td>validation</td>\n",
       "    </tr>\n",
       "    <tr>\n",
       "      <th>4794</th>\n",
       "      <td>time_series_data</td>\n",
       "      <td>D:/Dicom_organized/RV_plus/validation/2173519_...</td>\n",
       "      <td>2173519_08082018</td>\n",
       "      <td>resampled</td>\n",
       "      <td>RV_plus</td>\n",
       "      <td>validation</td>\n",
       "    </tr>\n",
       "    <tr>\n",
       "      <th>4795</th>\n",
       "      <td>vol_data</td>\n",
       "      <td>D:/Dicom_organized/RV_plus/validation/2173519_...</td>\n",
       "      <td>2173519_08082018</td>\n",
       "      <td>resampled</td>\n",
       "      <td>RV_plus</td>\n",
       "      <td>validation</td>\n",
       "    </tr>\n",
       "  </tbody>\n",
       "</table>\n",
       "<p>4796 rows × 6 columns</p>\n",
       "</div>"
      ],
      "text/plain": [
       "                 file_npy                                          file_path  \\\n",
       "0                    cine  D:/Dicom_organized/both_only/training/10890674...   \n",
       "1           diastole_data  D:/Dicom_organized/both_only/training/10890674...   \n",
       "2               segmented  D:/Dicom_organized/both_only/training/10890674...   \n",
       "3            sistole_data  D:/Dicom_organized/both_only/training/10890674...   \n",
       "4        time_series_data  D:/Dicom_organized/both_only/training/10890674...   \n",
       "...                   ...                                                ...   \n",
       "4791        diastole_data  D:/Dicom_organized/RV_plus/validation/2173519_...   \n",
       "4792  segmented_resampled  D:/Dicom_organized/RV_plus/validation/2173519_...   \n",
       "4793         sistole_data  D:/Dicom_organized/RV_plus/validation/2173519_...   \n",
       "4794     time_series_data  D:/Dicom_organized/RV_plus/validation/2173519_...   \n",
       "4795             vol_data  D:/Dicom_organized/RV_plus/validation/2173519_...   \n",
       "\n",
       "                     id image_type      label       split  \n",
       "0     10890674_27052016        raw  both_only    training  \n",
       "1     10890674_27052016        raw  both_only    training  \n",
       "2     10890674_27052016        raw  both_only    training  \n",
       "3     10890674_27052016        raw  both_only    training  \n",
       "4     10890674_27052016        raw  both_only    training  \n",
       "...                 ...        ...        ...         ...  \n",
       "4791   2173519_08082018  resampled    RV_plus  validation  \n",
       "4792   2173519_08082018  resampled    RV_plus  validation  \n",
       "4793   2173519_08082018  resampled    RV_plus  validation  \n",
       "4794   2173519_08082018  resampled    RV_plus  validation  \n",
       "4795   2173519_08082018  resampled    RV_plus  validation  \n",
       "\n",
       "[4796 rows x 6 columns]"
      ]
     },
     "execution_count": 5,
     "metadata": {},
     "output_type": "execute_result"
    }
   ],
   "source": [
    "path_list"
   ]
  },
  {
   "cell_type": "markdown",
   "metadata": {},
   "source": [
    "Creamos ahora una función que obtenga un dataset con los metadatos de todas las imágenes. Esto nos puede ser muy útil para asegurarnos que todas las imágenes son como esperamos."
   ]
  },
  {
   "cell_type": "code",
   "execution_count": 3,
   "metadata": {},
   "outputs": [],
   "source": [
    "# Dado que vamos a trabajar con resampled, analizamos esas directamente, concretamente sistole y diastole\n",
    "\n",
    "def create_df_metadata_images(path_list = path_list):\n",
    "    df_metadata = pd.DataFrame()\n",
    "    df_paths = get_df_paths(n = 0, file_npy = [\"diastole_data\", \"sistole_data\"])\n",
    "    for idx,row in df_paths.iterrows():\n",
    "        try:\n",
    "            image = np.load(row[\"file_path\"], allow_pickle = True)[0]\n",
    "            row[\"image_shape\"] = image.shape\n",
    "            row[\"image_shape_x\"] = image.shape[0]\n",
    "            row[\"image_shape_y\"] = image.shape[1]\n",
    "            row[\"image_shape_z\"] = image.shape[2]\n",
    "            row[\"image_type\"] = image.dtype\n",
    "            row[\"image_min\"] = image.min()\n",
    "            row[\"image_max\"] = image.max()\n",
    "            row[\"image_mean\"] = image.mean()\n",
    "            row[\"image_std\"] = image.std()\n",
    "        except FileNotFoundError:\n",
    "            print(\"PATH NOT FOUND:\",row[\"file_path\"])\n",
    "        \n",
    "        df_metadata = df_metadata.append(row, ignore_index = True)\n",
    "    return(df_metadata)\n",
    "        \n",
    "df_metadata_images = create_df_metadata_images()\n",
    "df_metadata_images.to_pickle(\"../data/df_metadata_images.pkl\")"
   ]
  },
  {
   "cell_type": "code",
   "execution_count": 4,
   "metadata": {},
   "outputs": [
    {
     "data": {
      "text/plain": [
       "49    288582_05042017\n",
       "71    228754_05102017\n",
       "Name: id, dtype: object"
      ]
     },
     "execution_count": 4,
     "metadata": {},
     "output_type": "execute_result"
    }
   ],
   "source": [
    "# 2 Carpetas no tienen sistole:\n",
    "\n",
    "ids = df_metadata_images[\"id\"]\n",
    "ids_no_sistole = ids.isin(df_metadata_images.id[df_metadata_images[\"file_npy\"]==\"sistole_data\"])\n",
    "df_metadata_images.id[~ids_no_sistole]"
   ]
  },
  {
   "cell_type": "code",
   "execution_count": 10,
   "metadata": {},
   "outputs": [
    {
     "data": {
      "text/plain": [
       "398"
      ]
     },
     "execution_count": 10,
     "metadata": {},
     "output_type": "execute_result"
    }
   ],
   "source": [
    "np.sum(df_metadata_images[\"file_npy\"]==\"sistole_data\")"
   ]
  },
  {
   "cell_type": "markdown",
   "metadata": {},
   "source": [
    "A continuación dos funciones que nos van a ser muy importantes.   \n",
    "\n",
    "La primera de ellas nos va a devolver un dataframe con aquellas filas que contengan unos valores que le pasaremos como argumento a la función. Ésta nos devolverá un dataframe con n filas a partir del dataframe pl que le pasemos, pudiendo indicar que las n filas sean o no aleatorias.  \n",
    "\n",
    "La segunda función tiene como argumento la salida de la función anterior. Ésta va a ser la encargada de cargar el conjunto de imágenes deseadas, las cuales devolverá en una lista. \n",
    "\n",
    "*Para acceder a un corte: images[ 0 ] [:, :, X]*"
   ]
  },
  {
   "cell_type": "code",
   "execution_count": 2,
   "metadata": {},
   "outputs": [],
   "source": [
    "# n = 0 -> all possible index\n",
    "# else, n -> nº of index to get\n",
    "def get_df_paths(pl = path_list, n=1, random = True, labels = labels, \n",
    "                 split = split, image_type = [\"resampled\"], file_npy = [\"sistole_data\"]):\n",
    "#   Cogemos los índices de las imagenes deseadas\n",
    "    idx = np.array(True)\n",
    "    args = {\"label\":labels, \"split\":split , \"image_type\":image_type , \"file_npy\":file_npy}\n",
    "    for nombre in args.keys():\n",
    "        lista = args[nombre]\n",
    "        pattern = '|'.join(lista)\n",
    "        idx_aux = pl[nombre].str.contains(pattern)\n",
    "        idx = idx & idx_aux\n",
    "    pl = pl[idx]\n",
    "    len_pl = idx.sum()\n",
    "    if n==0:\n",
    "        n = len_pl\n",
    "    # Seleccionamos n filas\n",
    "    if random:\n",
    "        idx = rd.sample(range(len_pl), n)\n",
    "    else:\n",
    "        idx = np.arange(n)\n",
    "    return(pl.iloc[idx])\n",
    "    \n",
    "def load_images(df_paths, output_list=False, move_axis=True):\n",
    "    if output_list:\n",
    "        images = list()\n",
    "        for file_path in df_paths[\"file_path\"]:\n",
    "            images.append(np.load(file_path, allow_pickle=True)[0])\n",
    "        return (images)\n",
    "    else:\n",
    "        images = np.empty(shape=[180, 180, 1])\n",
    "        for file_path in df_paths[\"file_path\"]:\n",
    "            images = np.concatenate(images, np.load(file_path, allow_pickle=True)[0], axis=2)\n",
    "        if move_axis:\n",
    "            images = np.moveaxis(images, -1, 0)\n",
    "        return (images)\n",
    "    \n",
    "# images = load_images(get_df_paths(n = 3))        "
   ]
  },
  {
   "cell_type": "markdown",
   "metadata": {},
   "source": [
    "Para el caso concreto en el que estamos, data[0] tiene dimensiones 180x180x10, es decir, tenemos un volumen correspondiente al proceso de sístole.  \n",
    "**¿Que corte es el que vamos a utilizar para las primeras redes?**  \n",
    "**¿Empezamos con sístole o diástole?**"
   ]
  },
  {
   "cell_type": "markdown",
   "metadata": {},
   "source": [
    "### 2.1. Estructura de data <a class=\"anchor\" id=\"data-structure\"></a>\n",
    "\n",
    "*Sacado de un comentario de script de Manu*\n",
    "\n",
    "All the arrays are in LPS systems (as in DICOM/itk)\n",
    "\n",
    "Order for sistole_data:  \n",
    "    1\\. sistole cine vol (volume-wise normalized)  \n",
    "    2. sistole segmented vol: 1 is left ventricle and 2 is right ventricle (inner cavities)  \n",
    "    3. End-sistolic volume (ml), 1 is LV endo and 2 is RV vol  \n",
    "    4. Spacig dims   \n",
    "    5. Origin in itk coordinates  \n",
    "    6. direction in itk coordinates  "
   ]
  },
  {
   "cell_type": "code",
   "execution_count": null,
   "metadata": {},
   "outputs": [],
   "source": [
    "print(\"Range data[0]: ({min},{max});\".format(min=data[0].min(),max=data[0].max()) ,\n",
    "      \"Shape data[0]\",data[0].shape)\n",
    "plt.subplot(1,2,1, title = \"Data[0]\")\n",
    "plt.imshow(data[0][:,:,5])\n",
    "\n",
    "print(\"Range data[0]: ({min},{max});\".format(min=data[0].min(),max=data[0].max()),\n",
    "      \"Shape data[1]\",data[1].shape)\n",
    "plt.subplot(1,2,2, title = \"Data[1]\")\n",
    "plt.imshow(data[1][:,:,5])\n",
    "\n",
    "for i in range(2,6):\n",
    "    print(\"Data[{}]:\\t\".format(i), data[i])"
   ]
  },
  {
   "cell_type": "markdown",
   "metadata": {},
   "source": [
    "### 2.2. Visualización de data <a class=\"anchor\" id=\"data-visualization\"></a>\n",
    "\n",
    "A continuación vamos a ver los diferentes cortes de data:\n",
    "\n",
    "*(Como propuesta, intentar hacer un visor donde seleccionas el corte a ver, en las 3 proyecciones)*"
   ]
  },
  {
   "cell_type": "code",
   "execution_count": 7,
   "metadata": {},
   "outputs": [
    {
     "ename": "IndexError",
     "evalue": "index 9 is out of bounds for axis 2 with size 9",
     "output_type": "error",
     "traceback": [
      "\u001b[1;31m---------------------------------------------------------------------------\u001b[0m",
      "\u001b[1;31mIndexError\u001b[0m                                Traceback (most recent call last)",
      "\u001b[1;32m<ipython-input-7-f5f8bc3eab0b>\u001b[0m in \u001b[0;36m<module>\u001b[1;34m\u001b[0m\n\u001b[0;32m      4\u001b[0m \u001b[1;33m\u001b[0m\u001b[0m\n\u001b[0;32m      5\u001b[0m \u001b[1;32mfor\u001b[0m \u001b[0mi\u001b[0m \u001b[1;32min\u001b[0m \u001b[0mrange\u001b[0m \u001b[1;33m(\u001b[0m\u001b[1;36m10\u001b[0m\u001b[1;33m)\u001b[0m\u001b[1;33m:\u001b[0m\u001b[1;33m\u001b[0m\u001b[1;33m\u001b[0m\u001b[0m\n\u001b[1;32m----> 6\u001b[1;33m     \u001b[0mplt\u001b[0m\u001b[1;33m.\u001b[0m\u001b[0mimshow\u001b[0m\u001b[1;33m(\u001b[0m\u001b[0mdata\u001b[0m\u001b[1;33m[\u001b[0m\u001b[1;36m0\u001b[0m\u001b[1;33m]\u001b[0m\u001b[1;33m[\u001b[0m\u001b[1;33m:\u001b[0m\u001b[1;33m,\u001b[0m\u001b[1;33m:\u001b[0m\u001b[1;33m,\u001b[0m\u001b[1;36m9\u001b[0m\u001b[1;33m-\u001b[0m\u001b[0mi\u001b[0m\u001b[1;33m]\u001b[0m\u001b[1;33m)\u001b[0m\u001b[1;33m\u001b[0m\u001b[1;33m\u001b[0m\u001b[0m\n\u001b[0m\u001b[0;32m      7\u001b[0m     \u001b[0mplt\u001b[0m\u001b[1;33m.\u001b[0m\u001b[0mshow\u001b[0m\u001b[1;33m(\u001b[0m\u001b[1;33m)\u001b[0m\u001b[1;33m\u001b[0m\u001b[1;33m\u001b[0m\u001b[0m\n\u001b[0;32m      8\u001b[0m     \u001b[0mtime\u001b[0m\u001b[1;33m.\u001b[0m\u001b[0msleep\u001b[0m\u001b[1;33m(\u001b[0m\u001b[1;36m0.85\u001b[0m\u001b[1;33m)\u001b[0m\u001b[1;33m\u001b[0m\u001b[1;33m\u001b[0m\u001b[0m\n",
      "\u001b[1;31mIndexError\u001b[0m: index 9 is out of bounds for axis 2 with size 9"
     ]
    }
   ],
   "source": [
    "%matplotlib inline\n",
    "from IPython.display import clear_output\n",
    "data = load_images(get_df_paths(n = 3))\n",
    "\n",
    "for i in range (10):\n",
    "    plt.imshow(data[0][:,:,9-i])\n",
    "    plt.show()\n",
    "    time.sleep(0.85)\n",
    "    clear_output(wait=True)"
   ]
  },
  {
   "cell_type": "code",
   "execution_count": 164,
   "metadata": {},
   "outputs": [
    {
     "data": {
      "image/png": "[encoded data removed]",
      "text/plain": [
       "<Figure size 432x288 with 1 Axes>"
      ]
     },
     "metadata": {
      "needs_background": "light"
     },
     "output_type": "display_data"
    },
    {
     "data": {
      "image/png": "[encoded data removed]",
      "text/plain": [
       "<Figure size 432x288 with 1 Axes>"
      ]
     },
     "metadata": {
      "needs_background": "light"
     },
     "output_type": "display_data"
    }
   ],
   "source": [
    "# Celda para comprobar que load_images funciona bien\n",
    "%matplotlib inline\n",
    "from IPython.display import clear_output\n",
    "images = load_images(get_df_paths(n = 3)) \n",
    "\n",
    "for i in range (10):\n",
    "    for j in range(2):\n",
    "        plt.subplot(1,2,j+1)\n",
    "        plt.imshow(images[j][:,:,i])\n",
    "        plt.show()\n",
    "    time.sleep(0.5)\n",
    "    clear_output(wait=True)"
   ]
  },
  {
   "cell_type": "code",
   "execution_count": null,
   "metadata": {},
   "outputs": [],
   "source": []
  }
 ],
 "metadata": {
  "kernelspec": {
   "display_name": "Python 3 (ipykernel)",
   "language": "python",
   "name": "python3"
  },
  "language_info": {
   "codemirror_mode": {
    "name": "ipython",
    "version": 3
   },
   "file_extension": ".py",
   "mimetype": "text/x-python",
   "name": "python",
   "nbconvert_exporter": "python",
   "pygments_lexer": "ipython3",
   "version": "3.8.10"
  }
 },
 "nbformat": 4,
 "nbformat_minor": 4
}
